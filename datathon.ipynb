{
 "cells": [
  {
   "cell_type": "code",
   "execution_count": 25,
   "id": "1eabb7e5",
   "metadata": {},
   "outputs": [],
   "source": [
    "import numpy as np\n",
    "import pandas as pd\n",
    "import matplotlib.pyplot as plt\n",
    "import seaborn as sns\n",
    "from sklearn.impute import SimpleImputer\n",
    "from sklearn.preprocessing import LabelEncoder\n",
    "\n"
   ]
  },
  {
   "cell_type": "code",
   "execution_count": 26,
   "id": "cd73a5aa",
   "metadata": {},
   "outputs": [
    {
     "data": {
      "text/html": [
       "<div>\n",
       "<style scoped>\n",
       "    .dataframe tbody tr th:only-of-type {\n",
       "        vertical-align: middle;\n",
       "    }\n",
       "\n",
       "    .dataframe tbody tr th {\n",
       "        vertical-align: top;\n",
       "    }\n",
       "\n",
       "    .dataframe thead th {\n",
       "        text-align: right;\n",
       "    }\n",
       "</style>\n",
       "<table border=\"1\" class=\"dataframe\">\n",
       "  <thead>\n",
       "    <tr style=\"text-align: right;\">\n",
       "      <th></th>\n",
       "      <th>GENDER</th>\n",
       "      <th>AGE</th>\n",
       "      <th>WBC</th>\n",
       "      <th>Platelets</th>\n",
       "      <th>Neutrophils</th>\n",
       "      <th>Lymphocytes</th>\n",
       "      <th>Monocytes</th>\n",
       "      <th>Eosinophils</th>\n",
       "      <th>Basophils</th>\n",
       "      <th>CRP</th>\n",
       "      <th>AST</th>\n",
       "      <th>ALT</th>\n",
       "      <th>ALP</th>\n",
       "      <th>GGT</th>\n",
       "      <th>LDH</th>\n",
       "      <th>Class</th>\n",
       "    </tr>\n",
       "  </thead>\n",
       "  <tbody>\n",
       "    <tr>\n",
       "      <th>0</th>\n",
       "      <td>F</td>\n",
       "      <td>70</td>\n",
       "      <td>4.9</td>\n",
       "      <td>145.0</td>\n",
       "      <td>4.0</td>\n",
       "      <td>0.7</td>\n",
       "      <td>0.3</td>\n",
       "      <td>0.0</td>\n",
       "      <td>0.0</td>\n",
       "      <td>87.9</td>\n",
       "      <td>68.0</td>\n",
       "      <td>41.0</td>\n",
       "      <td>89.0</td>\n",
       "      <td>63.0</td>\n",
       "      <td>606.0</td>\n",
       "      <td>1</td>\n",
       "    </tr>\n",
       "    <tr>\n",
       "      <th>1</th>\n",
       "      <td>M</td>\n",
       "      <td>61</td>\n",
       "      <td>11.3</td>\n",
       "      <td>166.0</td>\n",
       "      <td>10.7</td>\n",
       "      <td>0.5</td>\n",
       "      <td>0.1</td>\n",
       "      <td>0.0</td>\n",
       "      <td>0.0</td>\n",
       "      <td>174.3</td>\n",
       "      <td>118.0</td>\n",
       "      <td>95.0</td>\n",
       "      <td>59.0</td>\n",
       "      <td>77.0</td>\n",
       "      <td>808.0</td>\n",
       "      <td>1</td>\n",
       "    </tr>\n",
       "    <tr>\n",
       "      <th>2</th>\n",
       "      <td>F</td>\n",
       "      <td>70</td>\n",
       "      <td>15.8</td>\n",
       "      <td>202.0</td>\n",
       "      <td>13.9</td>\n",
       "      <td>1.0</td>\n",
       "      <td>0.8</td>\n",
       "      <td>0.0</td>\n",
       "      <td>0.0</td>\n",
       "      <td>43.8</td>\n",
       "      <td>20.0</td>\n",
       "      <td>26.0</td>\n",
       "      <td>80.0</td>\n",
       "      <td>16.0</td>\n",
       "      <td>235.0</td>\n",
       "      <td>0</td>\n",
       "    </tr>\n",
       "    <tr>\n",
       "      <th>3</th>\n",
       "      <td>M</td>\n",
       "      <td>85</td>\n",
       "      <td>10.6</td>\n",
       "      <td>227.0</td>\n",
       "      <td>NaN</td>\n",
       "      <td>NaN</td>\n",
       "      <td>NaN</td>\n",
       "      <td>NaN</td>\n",
       "      <td>NaN</td>\n",
       "      <td>6.3</td>\n",
       "      <td>31.0</td>\n",
       "      <td>16.0</td>\n",
       "      <td>NaN</td>\n",
       "      <td>NaN</td>\n",
       "      <td>NaN</td>\n",
       "      <td>0</td>\n",
       "    </tr>\n",
       "    <tr>\n",
       "      <th>4</th>\n",
       "      <td>F</td>\n",
       "      <td>89</td>\n",
       "      <td>4.5</td>\n",
       "      <td>170.0</td>\n",
       "      <td>3.8</td>\n",
       "      <td>0.5</td>\n",
       "      <td>0.2</td>\n",
       "      <td>0.0</td>\n",
       "      <td>0.0</td>\n",
       "      <td>133.6</td>\n",
       "      <td>57.0</td>\n",
       "      <td>17.0</td>\n",
       "      <td>81.0</td>\n",
       "      <td>19.0</td>\n",
       "      <td>626.0</td>\n",
       "      <td>1</td>\n",
       "    </tr>\n",
       "  </tbody>\n",
       "</table>\n",
       "</div>"
      ],
      "text/plain": [
       "  GENDER  AGE   WBC  Platelets  Neutrophils  Lymphocytes  Monocytes  \\\n",
       "0      F   70   4.9      145.0          4.0          0.7        0.3   \n",
       "1      M   61  11.3      166.0         10.7          0.5        0.1   \n",
       "2      F   70  15.8      202.0         13.9          1.0        0.8   \n",
       "3      M   85  10.6      227.0          NaN          NaN        NaN   \n",
       "4      F   89   4.5      170.0          3.8          0.5        0.2   \n",
       "\n",
       "   Eosinophils  Basophils    CRP    AST   ALT   ALP   GGT    LDH  Class  \n",
       "0          0.0        0.0   87.9   68.0  41.0  89.0  63.0  606.0      1  \n",
       "1          0.0        0.0  174.3  118.0  95.0  59.0  77.0  808.0      1  \n",
       "2          0.0        0.0   43.8   20.0  26.0  80.0  16.0  235.0      0  \n",
       "3          NaN        NaN    6.3   31.0  16.0   NaN   NaN    NaN      0  \n",
       "4          0.0        0.0  133.6   57.0  17.0  81.0  19.0  626.0      1  "
      ]
     },
     "execution_count": 26,
     "metadata": {},
     "output_type": "execute_result"
    }
   ],
   "source": [
    "datathon =pd.read_csv(r\"C:\\Users\\HP\\Downloads\\train.csv\")\n",
    "datathon.head()"
   ]
  },
  {
   "cell_type": "code",
   "execution_count": 27,
   "id": "ec3a9c0d",
   "metadata": {},
   "outputs": [
    {
     "data": {
      "text/plain": [
       "3"
      ]
     },
     "execution_count": 27,
     "metadata": {},
     "output_type": "execute_result"
    }
   ],
   "source": [
    "sum(datathon.duplicated())"
   ]
  },
  {
   "cell_type": "code",
   "execution_count": 28,
   "id": "c5fdaad5",
   "metadata": {},
   "outputs": [],
   "source": [
    "#print(datathon.duplicated())"
   ]
  },
  {
   "cell_type": "code",
   "execution_count": 29,
   "id": "0c059133",
   "metadata": {},
   "outputs": [],
   "source": [
    "#duplicate removal\n",
    "datathon.drop_duplicates(inplace=True)"
   ]
  },
  {
   "cell_type": "code",
   "execution_count": 30,
   "id": "f7fd3d75",
   "metadata": {},
   "outputs": [
    {
     "data": {
      "text/plain": [
       "0"
      ]
     },
     "execution_count": 30,
     "metadata": {},
     "output_type": "execute_result"
    }
   ],
   "source": [
    "sum(datathon.duplicated())"
   ]
  },
  {
   "cell_type": "code",
   "execution_count": 31,
   "id": "9677780b",
   "metadata": {},
   "outputs": [
    {
     "data": {
      "text/plain": [
       "(220, 16)"
      ]
     },
     "execution_count": 31,
     "metadata": {},
     "output_type": "execute_result"
    }
   ],
   "source": [
    "datathon.shape"
   ]
  },
  {
   "cell_type": "code",
   "execution_count": 32,
   "id": "1cd9d9ae",
   "metadata": {},
   "outputs": [
    {
     "data": {
      "text/html": [
       "<div>\n",
       "<style scoped>\n",
       "    .dataframe tbody tr th:only-of-type {\n",
       "        vertical-align: middle;\n",
       "    }\n",
       "\n",
       "    .dataframe tbody tr th {\n",
       "        vertical-align: top;\n",
       "    }\n",
       "\n",
       "    .dataframe thead th {\n",
       "        text-align: right;\n",
       "    }\n",
       "</style>\n",
       "<table border=\"1\" class=\"dataframe\">\n",
       "  <thead>\n",
       "    <tr style=\"text-align: right;\">\n",
       "      <th></th>\n",
       "      <th>GENDER</th>\n",
       "      <th>AGE</th>\n",
       "      <th>WBC</th>\n",
       "      <th>Platelets</th>\n",
       "      <th>Neutrophils</th>\n",
       "      <th>Lymphocytes</th>\n",
       "      <th>Monocytes</th>\n",
       "      <th>Eosinophils</th>\n",
       "      <th>Basophils</th>\n",
       "      <th>CRP</th>\n",
       "      <th>AST</th>\n",
       "      <th>ALT</th>\n",
       "      <th>ALP</th>\n",
       "      <th>GGT</th>\n",
       "      <th>LDH</th>\n",
       "      <th>Class</th>\n",
       "    </tr>\n",
       "  </thead>\n",
       "  <tbody>\n",
       "    <tr>\n",
       "      <th>0</th>\n",
       "      <td>F</td>\n",
       "      <td>70</td>\n",
       "      <td>4.9</td>\n",
       "      <td>145.0</td>\n",
       "      <td>4.0</td>\n",
       "      <td>0.7</td>\n",
       "      <td>0.3</td>\n",
       "      <td>0.0</td>\n",
       "      <td>0.0</td>\n",
       "      <td>87.9</td>\n",
       "      <td>68.0</td>\n",
       "      <td>41.0</td>\n",
       "      <td>89.0</td>\n",
       "      <td>63.0</td>\n",
       "      <td>606.0</td>\n",
       "      <td>1</td>\n",
       "    </tr>\n",
       "    <tr>\n",
       "      <th>1</th>\n",
       "      <td>M</td>\n",
       "      <td>61</td>\n",
       "      <td>11.3</td>\n",
       "      <td>166.0</td>\n",
       "      <td>10.7</td>\n",
       "      <td>0.5</td>\n",
       "      <td>0.1</td>\n",
       "      <td>0.0</td>\n",
       "      <td>0.0</td>\n",
       "      <td>174.3</td>\n",
       "      <td>118.0</td>\n",
       "      <td>95.0</td>\n",
       "      <td>59.0</td>\n",
       "      <td>77.0</td>\n",
       "      <td>808.0</td>\n",
       "      <td>1</td>\n",
       "    </tr>\n",
       "    <tr>\n",
       "      <th>2</th>\n",
       "      <td>F</td>\n",
       "      <td>70</td>\n",
       "      <td>15.8</td>\n",
       "      <td>202.0</td>\n",
       "      <td>13.9</td>\n",
       "      <td>1.0</td>\n",
       "      <td>0.8</td>\n",
       "      <td>0.0</td>\n",
       "      <td>0.0</td>\n",
       "      <td>43.8</td>\n",
       "      <td>20.0</td>\n",
       "      <td>26.0</td>\n",
       "      <td>80.0</td>\n",
       "      <td>16.0</td>\n",
       "      <td>235.0</td>\n",
       "      <td>0</td>\n",
       "    </tr>\n",
       "    <tr>\n",
       "      <th>3</th>\n",
       "      <td>M</td>\n",
       "      <td>85</td>\n",
       "      <td>10.6</td>\n",
       "      <td>227.0</td>\n",
       "      <td>NaN</td>\n",
       "      <td>NaN</td>\n",
       "      <td>NaN</td>\n",
       "      <td>NaN</td>\n",
       "      <td>NaN</td>\n",
       "      <td>6.3</td>\n",
       "      <td>31.0</td>\n",
       "      <td>16.0</td>\n",
       "      <td>NaN</td>\n",
       "      <td>NaN</td>\n",
       "      <td>NaN</td>\n",
       "      <td>0</td>\n",
       "    </tr>\n",
       "    <tr>\n",
       "      <th>4</th>\n",
       "      <td>F</td>\n",
       "      <td>89</td>\n",
       "      <td>4.5</td>\n",
       "      <td>170.0</td>\n",
       "      <td>3.8</td>\n",
       "      <td>0.5</td>\n",
       "      <td>0.2</td>\n",
       "      <td>0.0</td>\n",
       "      <td>0.0</td>\n",
       "      <td>133.6</td>\n",
       "      <td>57.0</td>\n",
       "      <td>17.0</td>\n",
       "      <td>81.0</td>\n",
       "      <td>19.0</td>\n",
       "      <td>626.0</td>\n",
       "      <td>1</td>\n",
       "    </tr>\n",
       "    <tr>\n",
       "      <th>...</th>\n",
       "      <td>...</td>\n",
       "      <td>...</td>\n",
       "      <td>...</td>\n",
       "      <td>...</td>\n",
       "      <td>...</td>\n",
       "      <td>...</td>\n",
       "      <td>...</td>\n",
       "      <td>...</td>\n",
       "      <td>...</td>\n",
       "      <td>...</td>\n",
       "      <td>...</td>\n",
       "      <td>...</td>\n",
       "      <td>...</td>\n",
       "      <td>...</td>\n",
       "      <td>...</td>\n",
       "      <td>...</td>\n",
       "    </tr>\n",
       "    <tr>\n",
       "      <th>218</th>\n",
       "      <td>M</td>\n",
       "      <td>57</td>\n",
       "      <td>6.8</td>\n",
       "      <td>172.0</td>\n",
       "      <td>6.2</td>\n",
       "      <td>0.3</td>\n",
       "      <td>0.3</td>\n",
       "      <td>0.1</td>\n",
       "      <td>0.0</td>\n",
       "      <td>27.6</td>\n",
       "      <td>83.0</td>\n",
       "      <td>137.0</td>\n",
       "      <td>92.0</td>\n",
       "      <td>NaN</td>\n",
       "      <td>455.0</td>\n",
       "      <td>1</td>\n",
       "    </tr>\n",
       "    <tr>\n",
       "      <th>219</th>\n",
       "      <td>F</td>\n",
       "      <td>72</td>\n",
       "      <td>10.1</td>\n",
       "      <td>245.0</td>\n",
       "      <td>NaN</td>\n",
       "      <td>NaN</td>\n",
       "      <td>NaN</td>\n",
       "      <td>NaN</td>\n",
       "      <td>NaN</td>\n",
       "      <td>49.6</td>\n",
       "      <td>28.0</td>\n",
       "      <td>22.0</td>\n",
       "      <td>NaN</td>\n",
       "      <td>NaN</td>\n",
       "      <td>328.0</td>\n",
       "      <td>0</td>\n",
       "    </tr>\n",
       "    <tr>\n",
       "      <th>220</th>\n",
       "      <td>F</td>\n",
       "      <td>79</td>\n",
       "      <td>6.4</td>\n",
       "      <td>170.0</td>\n",
       "      <td>5.0</td>\n",
       "      <td>0.6</td>\n",
       "      <td>0.7</td>\n",
       "      <td>0.0</td>\n",
       "      <td>0.0</td>\n",
       "      <td>2.0</td>\n",
       "      <td>70.0</td>\n",
       "      <td>45.0</td>\n",
       "      <td>NaN</td>\n",
       "      <td>NaN</td>\n",
       "      <td>NaN</td>\n",
       "      <td>0</td>\n",
       "    </tr>\n",
       "    <tr>\n",
       "      <th>221</th>\n",
       "      <td>M</td>\n",
       "      <td>80</td>\n",
       "      <td>11.0</td>\n",
       "      <td>285.0</td>\n",
       "      <td>9.3</td>\n",
       "      <td>0.6</td>\n",
       "      <td>1.1</td>\n",
       "      <td>0.0</td>\n",
       "      <td>0.0</td>\n",
       "      <td>135.1</td>\n",
       "      <td>34.0</td>\n",
       "      <td>20.0</td>\n",
       "      <td>NaN</td>\n",
       "      <td>NaN</td>\n",
       "      <td>369.0</td>\n",
       "      <td>1</td>\n",
       "    </tr>\n",
       "    <tr>\n",
       "      <th>222</th>\n",
       "      <td>F</td>\n",
       "      <td>57</td>\n",
       "      <td>10.7</td>\n",
       "      <td>176.0</td>\n",
       "      <td>9.1</td>\n",
       "      <td>1.1</td>\n",
       "      <td>0.4</td>\n",
       "      <td>0.0</td>\n",
       "      <td>0.0</td>\n",
       "      <td>129.6</td>\n",
       "      <td>57.0</td>\n",
       "      <td>35.0</td>\n",
       "      <td>NaN</td>\n",
       "      <td>NaN</td>\n",
       "      <td>601.0</td>\n",
       "      <td>1</td>\n",
       "    </tr>\n",
       "  </tbody>\n",
       "</table>\n",
       "<p>220 rows × 16 columns</p>\n",
       "</div>"
      ],
      "text/plain": [
       "    GENDER  AGE   WBC  Platelets  Neutrophils  Lymphocytes  Monocytes  \\\n",
       "0        F   70   4.9      145.0          4.0          0.7        0.3   \n",
       "1        M   61  11.3      166.0         10.7          0.5        0.1   \n",
       "2        F   70  15.8      202.0         13.9          1.0        0.8   \n",
       "3        M   85  10.6      227.0          NaN          NaN        NaN   \n",
       "4        F   89   4.5      170.0          3.8          0.5        0.2   \n",
       "..     ...  ...   ...        ...          ...          ...        ...   \n",
       "218      M   57   6.8      172.0          6.2          0.3        0.3   \n",
       "219      F   72  10.1      245.0          NaN          NaN        NaN   \n",
       "220      F   79   6.4      170.0          5.0          0.6        0.7   \n",
       "221      M   80  11.0      285.0          9.3          0.6        1.1   \n",
       "222      F   57  10.7      176.0          9.1          1.1        0.4   \n",
       "\n",
       "     Eosinophils  Basophils    CRP    AST    ALT   ALP   GGT    LDH  Class  \n",
       "0            0.0        0.0   87.9   68.0   41.0  89.0  63.0  606.0      1  \n",
       "1            0.0        0.0  174.3  118.0   95.0  59.0  77.0  808.0      1  \n",
       "2            0.0        0.0   43.8   20.0   26.0  80.0  16.0  235.0      0  \n",
       "3            NaN        NaN    6.3   31.0   16.0   NaN   NaN    NaN      0  \n",
       "4            0.0        0.0  133.6   57.0   17.0  81.0  19.0  626.0      1  \n",
       "..           ...        ...    ...    ...    ...   ...   ...    ...    ...  \n",
       "218          0.1        0.0   27.6   83.0  137.0  92.0   NaN  455.0      1  \n",
       "219          NaN        NaN   49.6   28.0   22.0   NaN   NaN  328.0      0  \n",
       "220          0.0        0.0    2.0   70.0   45.0   NaN   NaN    NaN      0  \n",
       "221          0.0        0.0  135.1   34.0   20.0   NaN   NaN  369.0      1  \n",
       "222          0.0        0.0  129.6   57.0   35.0   NaN   NaN  601.0      1  \n",
       "\n",
       "[220 rows x 16 columns]"
      ]
     },
     "execution_count": 32,
     "metadata": {},
     "output_type": "execute_result"
    }
   ],
   "source": [
    "datathon['Lymphocytes']= pd.to_numeric(datathon['Lymphocytes'], errors='coerce')\n",
    "\n",
    "datathon"
   ]
  },
  {
   "cell_type": "code",
   "execution_count": 33,
   "id": "1591f29f",
   "metadata": {},
   "outputs": [],
   "source": [
    "#thresh = number of valid features\n",
    "datathon.dropna(thresh=5,inplace=True)"
   ]
  },
  {
   "cell_type": "code",
   "execution_count": 34,
   "id": "fdff8df2",
   "metadata": {},
   "outputs": [
    {
     "data": {
      "text/plain": [
       "(219, 16)"
      ]
     },
     "execution_count": 34,
     "metadata": {},
     "output_type": "execute_result"
    }
   ],
   "source": [
    "datathon.shape"
   ]
  },
  {
   "cell_type": "code",
   "execution_count": 35,
   "id": "cc1cd02d",
   "metadata": {
    "scrolled": true
   },
   "outputs": [
    {
     "data": {
      "text/plain": [
       "GENDER           0\n",
       "AGE              0\n",
       "WBC              1\n",
       "Platelets        1\n",
       "Neutrophils     56\n",
       "Lymphocytes     57\n",
       "Monocytes       56\n",
       "Eosinophils     56\n",
       "Basophils       57\n",
       "CRP              3\n",
       "AST              0\n",
       "ALT              7\n",
       "ALP            114\n",
       "GGT            108\n",
       "LDH             63\n",
       "Class            0\n",
       "dtype: int64"
      ]
     },
     "execution_count": 35,
     "metadata": {},
     "output_type": "execute_result"
    }
   ],
   "source": [
    "datathon.isnull().sum() "
   ]
  },
  {
   "cell_type": "code",
   "execution_count": 36,
   "id": "98ee3ab0",
   "metadata": {},
   "outputs": [],
   "source": [
    "#d=datathon.drop(columns=[\"GGT\",\"ALP\"])"
   ]
  },
  {
   "cell_type": "code",
   "execution_count": 37,
   "id": "efec4343",
   "metadata": {},
   "outputs": [],
   "source": [
    "#d.shape"
   ]
  },
  {
   "cell_type": "code",
   "execution_count": 38,
   "id": "5f99918d",
   "metadata": {},
   "outputs": [],
   "source": [
    "#print(d)"
   ]
  },
  {
   "cell_type": "code",
   "execution_count": 39,
   "id": "586f79e2",
   "metadata": {},
   "outputs": [
    {
     "data": {
      "text/plain": [
       "GENDER           0\n",
       "AGE              0\n",
       "WBC              1\n",
       "Platelets        1\n",
       "Neutrophils     56\n",
       "Lymphocytes     57\n",
       "Monocytes       56\n",
       "Eosinophils     56\n",
       "Basophils       57\n",
       "CRP              3\n",
       "AST              0\n",
       "ALT              7\n",
       "ALP            114\n",
       "GGT            108\n",
       "LDH             63\n",
       "Class            0\n",
       "dtype: int64"
      ]
     },
     "execution_count": 39,
     "metadata": {},
     "output_type": "execute_result"
    }
   ],
   "source": [
    "datathon.isnull().sum() "
   ]
  },
  {
   "cell_type": "code",
   "execution_count": 40,
   "id": "b98c4e2a",
   "metadata": {},
   "outputs": [
    {
     "data": {
      "text/plain": [
       "<AxesSubplot:>"
      ]
     },
     "execution_count": 40,
     "metadata": {},
     "output_type": "execute_result"
    },
    {
     "data": {
      "image/png": "[encoded data removed]",
      "text/plain": [
       "<Figure size 432x288 with 1 Axes>"
      ]
     },
     "metadata": {
      "needs_background": "light"
     },
     "output_type": "display_data"
    }
   ],
   "source": [
    "datathon[\"ALT\"].plot(kind =\"box\")"
   ]
  },
  {
   "cell_type": "code",
   "execution_count": 41,
   "id": "6375e774",
   "metadata": {},
   "outputs": [],
   "source": [
    "#Z=datathon.fillna(datathon.mean())"
   ]
  },
  {
   "cell_type": "code",
   "execution_count": 42,
   "id": "b7388b62",
   "metadata": {},
   "outputs": [],
   "source": [
    "#Z.isnull().sum() "
   ]
  },
  {
   "cell_type": "code",
   "execution_count": 43,
   "id": "d6190715",
   "metadata": {},
   "outputs": [],
   "source": [
    "#datathon =datathon.drop(columns=[\"Lymphocytes\"])\n",
    "#for i in datathon[\"Lymphocytes\"]:\n",
    " #   i=i.replace(\"-\",\".\")\n",
    "  #  i=float(i)  "
   ]
  },
  {
   "cell_type": "code",
   "execution_count": 44,
   "id": "478e9a81",
   "metadata": {},
   "outputs": [],
   "source": [
    "#print(d)"
   ]
  },
  {
   "cell_type": "code",
   "execution_count": 45,
   "id": "032a735a",
   "metadata": {},
   "outputs": [],
   "source": [
    "#d.isnull().sum()"
   ]
  },
  {
   "cell_type": "code",
   "execution_count": 46,
   "id": "0a143c5d",
   "metadata": {},
   "outputs": [
    {
     "name": "stdout",
     "output_type": "stream",
     "text": [
      "0      0.0\n",
      "1      0.0\n",
      "2      0.0\n",
      "3      0.0\n",
      "4      0.0\n",
      "      ... \n",
      "218    0.0\n",
      "219    0.0\n",
      "220    0.0\n",
      "221    0.0\n",
      "222    0.0\n",
      "Name: Basophils, Length: 219, dtype: float64\n"
     ]
    }
   ],
   "source": [
    "datathon['Basophils'].fillna(datathon['Basophils'].mode()[0],inplace=True)\n",
    "print( datathon['Basophils'])"
   ]
  },
  {
   "cell_type": "code",
   "execution_count": 47,
   "id": "a3d06c74",
   "metadata": {},
   "outputs": [
    {
     "name": "stdout",
     "output_type": "stream",
     "text": [
      "0      0.7\n",
      "1      0.5\n",
      "2      1.0\n",
      "3      1.0\n",
      "4      0.5\n",
      "      ... \n",
      "218    0.3\n",
      "219    1.0\n",
      "220    0.6\n",
      "221    0.6\n",
      "222    1.1\n",
      "Name: Lymphocytes, Length: 219, dtype: float64\n"
     ]
    }
   ],
   "source": [
    "datathon['Lymphocytes'].fillna(datathon['Lymphocytes'].mode()[0],inplace=True)\n",
    "print( datathon['Lymphocytes'])"
   ]
  },
  {
   "cell_type": "code",
   "execution_count": 48,
   "id": "1b32b938",
   "metadata": {},
   "outputs": [
    {
     "data": {
      "text/plain": [
       "GENDER           0\n",
       "AGE              0\n",
       "WBC              1\n",
       "Platelets        1\n",
       "Neutrophils     56\n",
       "Lymphocytes      0\n",
       "Monocytes       56\n",
       "Eosinophils     56\n",
       "Basophils        0\n",
       "CRP              3\n",
       "AST              0\n",
       "ALT              7\n",
       "ALP            114\n",
       "GGT            108\n",
       "LDH             63\n",
       "Class            0\n",
       "dtype: int64"
      ]
     },
     "execution_count": 48,
     "metadata": {},
     "output_type": "execute_result"
    }
   ],
   "source": [
    "datathon.isnull().sum() "
   ]
  },
  {
   "cell_type": "code",
   "execution_count": 49,
   "id": "710976e4",
   "metadata": {},
   "outputs": [
    {
     "name": "stdout",
     "output_type": "stream",
     "text": [
      "0      0.0\n",
      "1      0.0\n",
      "2      0.0\n",
      "3      0.0\n",
      "4      0.0\n",
      "      ... \n",
      "218    0.1\n",
      "219    0.0\n",
      "220    0.0\n",
      "221    0.0\n",
      "222    0.0\n",
      "Name: Eosinophils, Length: 219, dtype: float64\n"
     ]
    }
   ],
   "source": [
    "datathon['Eosinophils'].fillna(datathon['Eosinophils'].mode()[0],inplace=True)\n",
    "print( datathon['Eosinophils'])"
   ]
  },
  {
   "cell_type": "code",
   "execution_count": 50,
   "id": "2715cca7",
   "metadata": {},
   "outputs": [
    {
     "name": "stdout",
     "output_type": "stream",
     "text": [
      "0      0.300000\n",
      "1      0.100000\n",
      "2      0.800000\n",
      "3      0.598773\n",
      "4      0.200000\n",
      "         ...   \n",
      "218    0.300000\n",
      "219    0.598773\n",
      "220    0.700000\n",
      "221    1.100000\n",
      "222    0.400000\n",
      "Name: Monocytes, Length: 219, dtype: float64\n"
     ]
    }
   ],
   "source": [
    "#changed from median to mean\n",
    "datathon['Monocytes'].fillna(datathon['Monocytes'].mean(),inplace=True)\n",
    "print( datathon['Monocytes'])\n",
    "#a=datathon[\"Monocytes\"]\n",
    "#a=datathon[\"Monocytes\"].interpolate(method=\"polynomial\",order=2)\n",
    "#datathon[\"Monocytes\"] =a\n",
    "#print(datathon[\"Monocytes\"])"
   ]
  },
  {
   "cell_type": "code",
   "execution_count": 51,
   "id": "82c7ed14",
   "metadata": {},
   "outputs": [
    {
     "name": "stdout",
     "output_type": "stream",
     "text": [
      "0       4.000000\n",
      "1      10.700000\n",
      "2      13.900000\n",
      "3       8.519223\n",
      "4       3.800000\n",
      "         ...    \n",
      "218     6.200000\n",
      "219     5.913009\n",
      "220     5.000000\n",
      "221     9.300000\n",
      "222     9.100000\n",
      "Name: Neutrophils, Length: 219, dtype: float64\n"
     ]
    }
   ],
   "source": [
    "#datathon['Neutrophils'].fillna(datathon['Neutrophils'].median(),inplace=True)\n",
    "#print( datathon['Neutrophils'])\n",
    "a=datathon[\"Neutrophils\"].interpolate(method=\"polynomial\",order=2)\n",
    "datathon[\"Neutrophils\"] = a\n",
    "print(datathon[\"Neutrophils\"])"
   ]
  },
  {
   "cell_type": "code",
   "execution_count": 52,
   "id": "e86496a3",
   "metadata": {},
   "outputs": [
    {
     "data": {
      "text/plain": [
       "GENDER           0\n",
       "AGE              0\n",
       "WBC              1\n",
       "Platelets        1\n",
       "Neutrophils      0\n",
       "Lymphocytes      0\n",
       "Monocytes        0\n",
       "Eosinophils      0\n",
       "Basophils        0\n",
       "CRP              3\n",
       "AST              0\n",
       "ALT              7\n",
       "ALP            114\n",
       "GGT            108\n",
       "LDH             63\n",
       "Class            0\n",
       "dtype: int64"
      ]
     },
     "execution_count": 52,
     "metadata": {},
     "output_type": "execute_result"
    }
   ],
   "source": [
    "datathon.isnull().sum() "
   ]
  },
  {
   "cell_type": "code",
   "execution_count": 53,
   "id": "4008ae11",
   "metadata": {},
   "outputs": [
    {
     "name": "stdout",
     "output_type": "stream",
     "text": [
      "0      606.000000\n",
      "1      808.000000\n",
      "2      235.000000\n",
      "3      326.717922\n",
      "4      626.000000\n",
      "          ...    \n",
      "218    455.000000\n",
      "219    328.000000\n",
      "220    282.039131\n",
      "221    369.000000\n",
      "222    601.000000\n",
      "Name: LDH, Length: 219, dtype: float64\n"
     ]
    }
   ],
   "source": [
    "#datathon['LDH'].fillna(datathon['LDH'].mean(),inplace=True)\n",
    "#print(datathon['LDH'])\n",
    "a=datathon[\"LDH\"].interpolate(method=\"polynomial\",order=2)\n",
    "datathon[\"LDH\"] =a\n",
    "print(datathon[\"LDH\"])"
   ]
  },
  {
   "cell_type": "code",
   "execution_count": 54,
   "id": "3008c392",
   "metadata": {},
   "outputs": [
    {
     "name": "stdout",
     "output_type": "stream",
     "text": [
      "0      63.000000\n",
      "1      77.000000\n",
      "2      16.000000\n",
      "3      83.621622\n",
      "4      19.000000\n",
      "         ...    \n",
      "218    83.621622\n",
      "219    83.621622\n",
      "220    83.621622\n",
      "221    83.621622\n",
      "222    83.621622\n",
      "Name: GGT, Length: 219, dtype: float64\n"
     ]
    },
    {
     "data": {
      "text/plain": [
       "'a=datathon[\"GGT\"].interpolate(method=\"polynomial\",order=2)\\ndatathon[\"GGT\"] =a\\nprint(datathon[\"GGT\"])'"
      ]
     },
     "execution_count": 54,
     "metadata": {},
     "output_type": "execute_result"
    }
   ],
   "source": [
    "datathon['GGT'].fillna(datathon['GGT'].mean(),inplace=True)\n",
    "print(datathon['GGT'])\n",
    "'''a=datathon[\"GGT\"].interpolate(method=\"polynomial\",order=2)\n",
    "datathon[\"GGT\"] =a\n",
    "print(datathon[\"GGT\"])'''"
   ]
  },
  {
   "cell_type": "code",
   "execution_count": 55,
   "id": "02caffc5",
   "metadata": {},
   "outputs": [
    {
     "name": "stdout",
     "output_type": "stream",
     "text": [
      "0      89.00000\n",
      "1      59.00000\n",
      "2      80.00000\n",
      "3      95.12381\n",
      "4      81.00000\n",
      "         ...   \n",
      "218    92.00000\n",
      "219    95.12381\n",
      "220    95.12381\n",
      "221    95.12381\n",
      "222    95.12381\n",
      "Name: ALP, Length: 219, dtype: float64\n"
     ]
    },
    {
     "data": {
      "text/plain": [
       "'a=datathon[\"ALP\"].interpolate(method=\"polynomial\",order=2)\\ndatathon[\"ALP\"] =a\\nprint(datathon[\"ALP\"])'"
      ]
     },
     "execution_count": 55,
     "metadata": {},
     "output_type": "execute_result"
    }
   ],
   "source": [
    "datathon['ALP'].fillna(datathon['ALP'].mean(),inplace=True)\n",
    "print(datathon['ALP'])\n",
    "'''a=datathon[\"ALP\"].interpolate(method=\"polynomial\",order=2)\n",
    "datathon[\"ALP\"] =a\n",
    "print(datathon[\"ALP\"])'''"
   ]
  },
  {
   "cell_type": "code",
   "execution_count": 56,
   "id": "04f44d1c",
   "metadata": {},
   "outputs": [],
   "source": [
    "#datathon['Lymphocytes'].fillna(datathon['Lymphocytes'].mode()[0],inplace=True)\n",
    "#print(datathon['Lymphocytes'])"
   ]
  },
  {
   "cell_type": "code",
   "execution_count": 57,
   "id": "dd4ee454",
   "metadata": {},
   "outputs": [
    {
     "name": "stdout",
     "output_type": "stream",
     "text": [
      "0       4.9\n",
      "1      11.3\n",
      "2      15.8\n",
      "3      10.6\n",
      "4       4.5\n",
      "       ... \n",
      "218     6.8\n",
      "219    10.1\n",
      "220     6.4\n",
      "221    11.0\n",
      "222    10.7\n",
      "Name: WBC, Length: 219, dtype: float64\n"
     ]
    }
   ],
   "source": [
    "datathon['WBC'].fillna(datathon['WBC'].mode()[0],inplace=True)\n",
    "print(datathon['WBC'])"
   ]
  },
  {
   "cell_type": "code",
   "execution_count": 58,
   "id": "977a64fa",
   "metadata": {},
   "outputs": [
    {
     "name": "stdout",
     "output_type": "stream",
     "text": [
      "0      145.0\n",
      "1      166.0\n",
      "2      202.0\n",
      "3      227.0\n",
      "4      170.0\n",
      "       ...  \n",
      "218    172.0\n",
      "219    245.0\n",
      "220    170.0\n",
      "221    285.0\n",
      "222    176.0\n",
      "Name: Platelets, Length: 219, dtype: float64\n"
     ]
    }
   ],
   "source": [
    "datathon['Platelets'].fillna(datathon['Platelets'].mode()[0],inplace=True)\n",
    "print(datathon['Platelets'])"
   ]
  },
  {
   "cell_type": "code",
   "execution_count": 59,
   "id": "13aff62b",
   "metadata": {},
   "outputs": [
    {
     "name": "stdout",
     "output_type": "stream",
     "text": [
      "0       41.0\n",
      "1       95.0\n",
      "2       26.0\n",
      "3       16.0\n",
      "4       17.0\n",
      "       ...  \n",
      "218    137.0\n",
      "219     22.0\n",
      "220     45.0\n",
      "221     20.0\n",
      "222     35.0\n",
      "Name: ALT, Length: 219, dtype: float64\n"
     ]
    }
   ],
   "source": [
    "datathon['ALT'].fillna(datathon['ALT'].mean(),inplace=True)\n",
    "print(datathon['ALT'])"
   ]
  },
  {
   "cell_type": "code",
   "execution_count": 60,
   "id": "1f56a9cd",
   "metadata": {},
   "outputs": [
    {
     "name": "stdout",
     "output_type": "stream",
     "text": [
      "0       87.9\n",
      "1      174.3\n",
      "2       43.8\n",
      "3        6.3\n",
      "4      133.6\n",
      "       ...  \n",
      "218     27.6\n",
      "219     49.6\n",
      "220      2.0\n",
      "221    135.1\n",
      "222    129.6\n",
      "Name: CRP, Length: 219, dtype: float64\n"
     ]
    }
   ],
   "source": [
    "datathon['CRP'].fillna(datathon['CRP'].median(),inplace=True)\n",
    "print(datathon['CRP'])"
   ]
  },
  {
   "cell_type": "code",
   "execution_count": 61,
   "id": "542d3372",
   "metadata": {},
   "outputs": [
    {
     "data": {
      "text/plain": [
       "GENDER         0\n",
       "AGE            0\n",
       "WBC            0\n",
       "Platelets      0\n",
       "Neutrophils    0\n",
       "Lymphocytes    0\n",
       "Monocytes      0\n",
       "Eosinophils    0\n",
       "Basophils      0\n",
       "CRP            0\n",
       "AST            0\n",
       "ALT            0\n",
       "ALP            0\n",
       "GGT            0\n",
       "LDH            0\n",
       "Class          0\n",
       "dtype: int64"
      ]
     },
     "execution_count": 61,
     "metadata": {},
     "output_type": "execute_result"
    }
   ],
   "source": [
    "datathon.isnull().sum() "
   ]
  },
  {
   "cell_type": "code",
   "execution_count": 62,
   "id": "bf3ef562",
   "metadata": {},
   "outputs": [
    {
     "name": "stdout",
     "output_type": "stream",
     "text": [
      "    GENDER  AGE   WBC  Platelets  Neutrophils  Lymphocytes  Monocytes  \\\n",
      "0        F   70   4.9      145.0     4.000000          0.7   0.300000   \n",
      "1        M   61  11.3      166.0    10.700000          0.5   0.100000   \n",
      "2        F   70  15.8      202.0    13.900000          1.0   0.800000   \n",
      "3        M   85  10.6      227.0     8.519223          1.0   0.598773   \n",
      "4        F   89   4.5      170.0     3.800000          0.5   0.200000   \n",
      "..     ...  ...   ...        ...          ...          ...        ...   \n",
      "218      M   57   6.8      172.0     6.200000          0.3   0.300000   \n",
      "219      F   72  10.1      245.0     5.913009          1.0   0.598773   \n",
      "220      F   79   6.4      170.0     5.000000          0.6   0.700000   \n",
      "221      M   80  11.0      285.0     9.300000          0.6   1.100000   \n",
      "222      F   57  10.7      176.0     9.100000          1.1   0.400000   \n",
      "\n",
      "     Eosinophils  Basophils    CRP    AST    ALT       ALP        GGT  \\\n",
      "0            0.0        0.0   87.9   68.0   41.0  89.00000  63.000000   \n",
      "1            0.0        0.0  174.3  118.0   95.0  59.00000  77.000000   \n",
      "2            0.0        0.0   43.8   20.0   26.0  80.00000  16.000000   \n",
      "3            0.0        0.0    6.3   31.0   16.0  95.12381  83.621622   \n",
      "4            0.0        0.0  133.6   57.0   17.0  81.00000  19.000000   \n",
      "..           ...        ...    ...    ...    ...       ...        ...   \n",
      "218          0.1        0.0   27.6   83.0  137.0  92.00000  83.621622   \n",
      "219          0.0        0.0   49.6   28.0   22.0  95.12381  83.621622   \n",
      "220          0.0        0.0    2.0   70.0   45.0  95.12381  83.621622   \n",
      "221          0.0        0.0  135.1   34.0   20.0  95.12381  83.621622   \n",
      "222          0.0        0.0  129.6   57.0   35.0  95.12381  83.621622   \n",
      "\n",
      "            LDH  Class  \n",
      "0    606.000000      1  \n",
      "1    808.000000      1  \n",
      "2    235.000000      0  \n",
      "3    326.717922      0  \n",
      "4    626.000000      1  \n",
      "..          ...    ...  \n",
      "218  455.000000      1  \n",
      "219  328.000000      0  \n",
      "220  282.039131      0  \n",
      "221  369.000000      1  \n",
      "222  601.000000      1  \n",
      "\n",
      "[219 rows x 16 columns]\n"
     ]
    }
   ],
   "source": [
    "print(datathon)"
   ]
  },
  {
   "cell_type": "code",
   "execution_count": 63,
   "id": "e0d20ebe",
   "metadata": {},
   "outputs": [],
   "source": [
    "#datathon=datathon.drop(columns=['Lymphocytes'])"
   ]
  },
  {
   "cell_type": "code",
   "execution_count": 64,
   "id": "51e31afd",
   "metadata": {},
   "outputs": [],
   "source": [
    "#import pandas as pd\n",
    "#dataset =pd.read_csv(r\"C:\\Users\\HP\\Downloads\\911_1.csv\",index_col=0)\n",
    "# x=datathon.iloc[:,:].values \n",
    "#print(x[:,0])\n",
    "from sklearn.preprocessing import LabelEncoder\n",
    "label_encoder =  LabelEncoder()\n",
    "datathon['GENDER']= label_encoder.fit_transform(datathon['GENDER'])"
   ]
  },
  {
   "cell_type": "code",
   "execution_count": 65,
   "id": "44ea4758",
   "metadata": {},
   "outputs": [
    {
     "data": {
      "text/plain": [
       "0"
      ]
     },
     "execution_count": 65,
     "metadata": {},
     "output_type": "execute_result"
    }
   ],
   "source": [
    "datathon[\"GENDER\"].isnull().sum()"
   ]
  },
  {
   "cell_type": "code",
   "execution_count": 66,
   "id": "a618ab48",
   "metadata": {},
   "outputs": [
    {
     "data": {
      "text/plain": [
       "1    147\n",
       "0     72\n",
       "Name: GENDER, dtype: int64"
      ]
     },
     "execution_count": 66,
     "metadata": {},
     "output_type": "execute_result"
    }
   ],
   "source": [
    "datathon.GENDER.value_counts()"
   ]
  },
  {
   "cell_type": "code",
   "execution_count": 67,
   "id": "8b7bc5cc",
   "metadata": {},
   "outputs": [
    {
     "data": {
      "text/plain": [
       "GENDER         0\n",
       "AGE            0\n",
       "WBC            0\n",
       "Platelets      0\n",
       "Neutrophils    0\n",
       "Lymphocytes    0\n",
       "Monocytes      0\n",
       "Eosinophils    0\n",
       "Basophils      0\n",
       "CRP            0\n",
       "AST            0\n",
       "ALT            0\n",
       "ALP            0\n",
       "GGT            0\n",
       "LDH            0\n",
       "Class          0\n",
       "dtype: int64"
      ]
     },
     "execution_count": 67,
     "metadata": {},
     "output_type": "execute_result"
    }
   ],
   "source": [
    "datathon.isnull().sum()"
   ]
  },
  {
   "cell_type": "code",
   "execution_count": 68,
   "id": "83ac11fb",
   "metadata": {},
   "outputs": [],
   "source": [
    "#datathon['Lymphocytes']=datathon['Lymphocytes'].astype(float)\n",
    "#datathon['Lymphocytes']=pd.to_numeric(datathon['Lymphocytes'],errors ='coerce')"
   ]
  },
  {
   "cell_type": "code",
   "execution_count": 69,
   "id": "f0078ecd",
   "metadata": {},
   "outputs": [
    {
     "data": {
      "text/html": [
       "<div>\n",
       "<style scoped>\n",
       "    .dataframe tbody tr th:only-of-type {\n",
       "        vertical-align: middle;\n",
       "    }\n",
       "\n",
       "    .dataframe tbody tr th {\n",
       "        vertical-align: top;\n",
       "    }\n",
       "\n",
       "    .dataframe thead th {\n",
       "        text-align: right;\n",
       "    }\n",
       "</style>\n",
       "<table border=\"1\" class=\"dataframe\">\n",
       "  <thead>\n",
       "    <tr style=\"text-align: right;\">\n",
       "      <th></th>\n",
       "      <th>GENDER</th>\n",
       "      <th>AGE</th>\n",
       "      <th>WBC</th>\n",
       "      <th>Platelets</th>\n",
       "      <th>Neutrophils</th>\n",
       "      <th>Lymphocytes</th>\n",
       "      <th>Monocytes</th>\n",
       "      <th>Eosinophils</th>\n",
       "      <th>Basophils</th>\n",
       "      <th>CRP</th>\n",
       "      <th>AST</th>\n",
       "      <th>ALT</th>\n",
       "      <th>ALP</th>\n",
       "      <th>GGT</th>\n",
       "      <th>LDH</th>\n",
       "      <th>Class</th>\n",
       "    </tr>\n",
       "  </thead>\n",
       "  <tbody>\n",
       "    <tr>\n",
       "      <th>0</th>\n",
       "      <td>0</td>\n",
       "      <td>70</td>\n",
       "      <td>4.9</td>\n",
       "      <td>145.0</td>\n",
       "      <td>4.000000</td>\n",
       "      <td>0.7</td>\n",
       "      <td>0.300000</td>\n",
       "      <td>0.0</td>\n",
       "      <td>0.0</td>\n",
       "      <td>87.9</td>\n",
       "      <td>68.0</td>\n",
       "      <td>41.0</td>\n",
       "      <td>89.00000</td>\n",
       "      <td>63.000000</td>\n",
       "      <td>606.000000</td>\n",
       "      <td>1</td>\n",
       "    </tr>\n",
       "    <tr>\n",
       "      <th>1</th>\n",
       "      <td>1</td>\n",
       "      <td>61</td>\n",
       "      <td>11.3</td>\n",
       "      <td>166.0</td>\n",
       "      <td>10.700000</td>\n",
       "      <td>0.5</td>\n",
       "      <td>0.100000</td>\n",
       "      <td>0.0</td>\n",
       "      <td>0.0</td>\n",
       "      <td>174.3</td>\n",
       "      <td>118.0</td>\n",
       "      <td>95.0</td>\n",
       "      <td>59.00000</td>\n",
       "      <td>77.000000</td>\n",
       "      <td>808.000000</td>\n",
       "      <td>1</td>\n",
       "    </tr>\n",
       "    <tr>\n",
       "      <th>2</th>\n",
       "      <td>0</td>\n",
       "      <td>70</td>\n",
       "      <td>15.8</td>\n",
       "      <td>202.0</td>\n",
       "      <td>13.900000</td>\n",
       "      <td>1.0</td>\n",
       "      <td>0.800000</td>\n",
       "      <td>0.0</td>\n",
       "      <td>0.0</td>\n",
       "      <td>43.8</td>\n",
       "      <td>20.0</td>\n",
       "      <td>26.0</td>\n",
       "      <td>80.00000</td>\n",
       "      <td>16.000000</td>\n",
       "      <td>235.000000</td>\n",
       "      <td>0</td>\n",
       "    </tr>\n",
       "    <tr>\n",
       "      <th>3</th>\n",
       "      <td>1</td>\n",
       "      <td>85</td>\n",
       "      <td>10.6</td>\n",
       "      <td>227.0</td>\n",
       "      <td>8.519223</td>\n",
       "      <td>1.0</td>\n",
       "      <td>0.598773</td>\n",
       "      <td>0.0</td>\n",
       "      <td>0.0</td>\n",
       "      <td>6.3</td>\n",
       "      <td>31.0</td>\n",
       "      <td>16.0</td>\n",
       "      <td>95.12381</td>\n",
       "      <td>83.621622</td>\n",
       "      <td>326.717922</td>\n",
       "      <td>0</td>\n",
       "    </tr>\n",
       "    <tr>\n",
       "      <th>4</th>\n",
       "      <td>0</td>\n",
       "      <td>89</td>\n",
       "      <td>4.5</td>\n",
       "      <td>170.0</td>\n",
       "      <td>3.800000</td>\n",
       "      <td>0.5</td>\n",
       "      <td>0.200000</td>\n",
       "      <td>0.0</td>\n",
       "      <td>0.0</td>\n",
       "      <td>133.6</td>\n",
       "      <td>57.0</td>\n",
       "      <td>17.0</td>\n",
       "      <td>81.00000</td>\n",
       "      <td>19.000000</td>\n",
       "      <td>626.000000</td>\n",
       "      <td>1</td>\n",
       "    </tr>\n",
       "    <tr>\n",
       "      <th>...</th>\n",
       "      <td>...</td>\n",
       "      <td>...</td>\n",
       "      <td>...</td>\n",
       "      <td>...</td>\n",
       "      <td>...</td>\n",
       "      <td>...</td>\n",
       "      <td>...</td>\n",
       "      <td>...</td>\n",
       "      <td>...</td>\n",
       "      <td>...</td>\n",
       "      <td>...</td>\n",
       "      <td>...</td>\n",
       "      <td>...</td>\n",
       "      <td>...</td>\n",
       "      <td>...</td>\n",
       "      <td>...</td>\n",
       "    </tr>\n",
       "    <tr>\n",
       "      <th>218</th>\n",
       "      <td>1</td>\n",
       "      <td>57</td>\n",
       "      <td>6.8</td>\n",
       "      <td>172.0</td>\n",
       "      <td>6.200000</td>\n",
       "      <td>0.3</td>\n",
       "      <td>0.300000</td>\n",
       "      <td>0.1</td>\n",
       "      <td>0.0</td>\n",
       "      <td>27.6</td>\n",
       "      <td>83.0</td>\n",
       "      <td>137.0</td>\n",
       "      <td>92.00000</td>\n",
       "      <td>83.621622</td>\n",
       "      <td>455.000000</td>\n",
       "      <td>1</td>\n",
       "    </tr>\n",
       "    <tr>\n",
       "      <th>219</th>\n",
       "      <td>0</td>\n",
       "      <td>72</td>\n",
       "      <td>10.1</td>\n",
       "      <td>245.0</td>\n",
       "      <td>5.913009</td>\n",
       "      <td>1.0</td>\n",
       "      <td>0.598773</td>\n",
       "      <td>0.0</td>\n",
       "      <td>0.0</td>\n",
       "      <td>49.6</td>\n",
       "      <td>28.0</td>\n",
       "      <td>22.0</td>\n",
       "      <td>95.12381</td>\n",
       "      <td>83.621622</td>\n",
       "      <td>328.000000</td>\n",
       "      <td>0</td>\n",
       "    </tr>\n",
       "    <tr>\n",
       "      <th>220</th>\n",
       "      <td>0</td>\n",
       "      <td>79</td>\n",
       "      <td>6.4</td>\n",
       "      <td>170.0</td>\n",
       "      <td>5.000000</td>\n",
       "      <td>0.6</td>\n",
       "      <td>0.700000</td>\n",
       "      <td>0.0</td>\n",
       "      <td>0.0</td>\n",
       "      <td>2.0</td>\n",
       "      <td>70.0</td>\n",
       "      <td>45.0</td>\n",
       "      <td>95.12381</td>\n",
       "      <td>83.621622</td>\n",
       "      <td>282.039131</td>\n",
       "      <td>0</td>\n",
       "    </tr>\n",
       "    <tr>\n",
       "      <th>221</th>\n",
       "      <td>1</td>\n",
       "      <td>80</td>\n",
       "      <td>11.0</td>\n",
       "      <td>285.0</td>\n",
       "      <td>9.300000</td>\n",
       "      <td>0.6</td>\n",
       "      <td>1.100000</td>\n",
       "      <td>0.0</td>\n",
       "      <td>0.0</td>\n",
       "      <td>135.1</td>\n",
       "      <td>34.0</td>\n",
       "      <td>20.0</td>\n",
       "      <td>95.12381</td>\n",
       "      <td>83.621622</td>\n",
       "      <td>369.000000</td>\n",
       "      <td>1</td>\n",
       "    </tr>\n",
       "    <tr>\n",
       "      <th>222</th>\n",
       "      <td>0</td>\n",
       "      <td>57</td>\n",
       "      <td>10.7</td>\n",
       "      <td>176.0</td>\n",
       "      <td>9.100000</td>\n",
       "      <td>1.1</td>\n",
       "      <td>0.400000</td>\n",
       "      <td>0.0</td>\n",
       "      <td>0.0</td>\n",
       "      <td>129.6</td>\n",
       "      <td>57.0</td>\n",
       "      <td>35.0</td>\n",
       "      <td>95.12381</td>\n",
       "      <td>83.621622</td>\n",
       "      <td>601.000000</td>\n",
       "      <td>1</td>\n",
       "    </tr>\n",
       "  </tbody>\n",
       "</table>\n",
       "<p>219 rows × 16 columns</p>\n",
       "</div>"
      ],
      "text/plain": [
       "     GENDER  AGE   WBC  Platelets  Neutrophils  Lymphocytes  Monocytes  \\\n",
       "0         0   70   4.9      145.0     4.000000          0.7   0.300000   \n",
       "1         1   61  11.3      166.0    10.700000          0.5   0.100000   \n",
       "2         0   70  15.8      202.0    13.900000          1.0   0.800000   \n",
       "3         1   85  10.6      227.0     8.519223          1.0   0.598773   \n",
       "4         0   89   4.5      170.0     3.800000          0.5   0.200000   \n",
       "..      ...  ...   ...        ...          ...          ...        ...   \n",
       "218       1   57   6.8      172.0     6.200000          0.3   0.300000   \n",
       "219       0   72  10.1      245.0     5.913009          1.0   0.598773   \n",
       "220       0   79   6.4      170.0     5.000000          0.6   0.700000   \n",
       "221       1   80  11.0      285.0     9.300000          0.6   1.100000   \n",
       "222       0   57  10.7      176.0     9.100000          1.1   0.400000   \n",
       "\n",
       "     Eosinophils  Basophils    CRP    AST    ALT       ALP        GGT  \\\n",
       "0            0.0        0.0   87.9   68.0   41.0  89.00000  63.000000   \n",
       "1            0.0        0.0  174.3  118.0   95.0  59.00000  77.000000   \n",
       "2            0.0        0.0   43.8   20.0   26.0  80.00000  16.000000   \n",
       "3            0.0        0.0    6.3   31.0   16.0  95.12381  83.621622   \n",
       "4            0.0        0.0  133.6   57.0   17.0  81.00000  19.000000   \n",
       "..           ...        ...    ...    ...    ...       ...        ...   \n",
       "218          0.1        0.0   27.6   83.0  137.0  92.00000  83.621622   \n",
       "219          0.0        0.0   49.6   28.0   22.0  95.12381  83.621622   \n",
       "220          0.0        0.0    2.0   70.0   45.0  95.12381  83.621622   \n",
       "221          0.0        0.0  135.1   34.0   20.0  95.12381  83.621622   \n",
       "222          0.0        0.0  129.6   57.0   35.0  95.12381  83.621622   \n",
       "\n",
       "            LDH  Class  \n",
       "0    606.000000      1  \n",
       "1    808.000000      1  \n",
       "2    235.000000      0  \n",
       "3    326.717922      0  \n",
       "4    626.000000      1  \n",
       "..          ...    ...  \n",
       "218  455.000000      1  \n",
       "219  328.000000      0  \n",
       "220  282.039131      0  \n",
       "221  369.000000      1  \n",
       "222  601.000000      1  \n",
       "\n",
       "[219 rows x 16 columns]"
      ]
     },
     "execution_count": 69,
     "metadata": {},
     "output_type": "execute_result"
    }
   ],
   "source": [
    "datathon"
   ]
  },
  {
   "cell_type": "code",
   "execution_count": 70,
   "id": "b083f099",
   "metadata": {},
   "outputs": [
    {
     "name": "stdout",
     "output_type": "stream",
     "text": [
      "(219, 15)\n"
     ]
    }
   ],
   "source": [
    "#CLASSIFYING 1-covid \n",
    "from sklearn.model_selection import train_test_split\n",
    "X = datathon.drop(columns=[\"Class\"])  \n",
    "Y = datathon[\"Class\"] \n",
    "X_train,X_test,Y_train,Y_test = train_test_split(X,Y,test_size=0.20,random_state=24)\n",
    "print(X.shape)"
   ]
  },
  {
   "cell_type": "code",
   "execution_count": 71,
   "id": "027237b6",
   "metadata": {},
   "outputs": [
    {
     "data": {
      "text/plain": [
       "((175, 15), (175,))"
      ]
     },
     "execution_count": 71,
     "metadata": {},
     "output_type": "execute_result"
    }
   ],
   "source": [
    "X_train.shape ,Y_train.shape   "
   ]
  },
  {
   "cell_type": "markdown",
   "id": "ee39a49e",
   "metadata": {},
   "source": [
    "# RandomForestClassifier along with  MCC"
   ]
  },
  {
   "cell_type": "code",
   "execution_count": 72,
   "id": "ade9fe7c",
   "metadata": {},
   "outputs": [
    {
     "data": {
      "text/plain": [
       "RandomForestClassifier(random_state=24)"
      ]
     },
     "execution_count": 72,
     "metadata": {},
     "output_type": "execute_result"
    }
   ],
   "source": [
    "#rf=RandomForestClassifier()\n",
    "#rf_randomcv=RandomizedSearchCV(estimator=rf,param_distributions=random_grid,n_iter=100,cv=3,verbose=2,\n",
    "                             #  random_state=100,n_jobs=-1)\n",
    "### fit the randomized model\n",
    "#rf_randomcv.fit(X_train,y_train)\n",
    "#working\n",
    "from sklearn.ensemble import RandomForestClassifier\n",
    "from sklearn.metrics import accuracy_score\n",
    "rf_model = RandomForestClassifier(random_state=24,)\n",
    "rf_model.fit(X_train,Y_train) \n",
    "#pred =rf_model.predict(X_test)\n",
    "#print(\"Accuracy \",accuracy_score(Y_test , pred ) )"
   ]
  },
  {
   "cell_type": "code",
   "execution_count": 73,
   "id": "01dad4c9",
   "metadata": {},
   "outputs": [],
   "source": [
    "# import pickle  #repeat\n",
    "# #filename = 'violet_diamond.pkl'\n",
    "# #pickle.dump(rf_model,open(filename,'wb'))\n",
    "# '''filename = 'orange_.pkl'\n",
    "# pickle.dump(rf_model, open(filename, \"wb\"))\n",
    "# loaded_model = pickle.load(open(filename, \"rb\"))\n",
    "# #loaded_model.predict(X_test)\n",
    "# #rf_model.predict(X_test)\n",
    "# loaded_model.predict(X_test)\n",
    "# #print(result)'''"
   ]
  },
  {
   "cell_type": "code",
   "execution_count": 74,
   "id": "42d0519e",
   "metadata": {},
   "outputs": [
    {
     "data": {
      "text/plain": [
       "RandomForestClassifier(random_state=24)"
      ]
     },
     "execution_count": 74,
     "metadata": {},
     "output_type": "execute_result"
    }
   ],
   "source": [
    "import pickle\n",
    "#from sklearn.svm import SVC\n",
    "rf_model"
   ]
  },
  {
   "cell_type": "code",
   "execution_count": 75,
   "id": "e36c51c3",
   "metadata": {},
   "outputs": [],
   "source": [
    "pickle.dump(rf_model,open(\"rollmodel.pkl\",\"wb\"))"
   ]
  },
  {
   "cell_type": "code",
   "execution_count": 76,
   "id": "f2527687",
   "metadata": {},
   "outputs": [],
   "source": [
    "loaded_model=pickle.load(open(\"rollmodel.pkl\",\"rb\"))"
   ]
  },
  {
   "cell_type": "code",
   "execution_count": 77,
   "id": "8b5a4463",
   "metadata": {},
   "outputs": [
    {
     "data": {
      "text/plain": [
       "array([0, 1, 0, 1, 0, 0, 1, 0, 1, 0, 0, 1, 1, 1, 1, 1, 1, 0, 1, 0, 1, 0,\n",
       "       1, 0, 0, 0, 1, 1, 1, 0, 1, 0, 0, 1, 1, 1, 1, 0, 0, 0, 1, 1, 1, 1],\n",
       "      dtype=int64)"
      ]
     },
     "execution_count": 77,
     "metadata": {},
     "output_type": "execute_result"
    }
   ],
   "source": [
    "loaded_model.predict(X_test)"
   ]
  },
  {
   "cell_type": "code",
   "execution_count": 78,
   "id": "e567751b",
   "metadata": {},
   "outputs": [
    {
     "data": {
      "text/plain": [
       "array([0, 1, 0, 1, 0, 0, 1, 0, 1, 0, 0, 1, 1, 1, 1, 1, 1, 0, 1, 0, 1, 0,\n",
       "       1, 0, 0, 0, 1, 1, 1, 0, 1, 0, 0, 1, 1, 1, 1, 0, 0, 0, 1, 1, 1, 1],\n",
       "      dtype=int64)"
      ]
     },
     "execution_count": 78,
     "metadata": {},
     "output_type": "execute_result"
    }
   ],
   "source": [
    "rf_model.predict(X_test)"
   ]
  },
  {
   "cell_type": "code",
   "execution_count": 79,
   "id": "72358f36",
   "metadata": {},
   "outputs": [],
   "source": [
    "temp = {}\n",
    "temp['GENDER'] = 1\n",
    "temp['AGE'] = 2\n",
    "temp['WBC'] = 3\n",
    "temp['Platelets'] = 4\n",
    "temp['Neutrophils'] = 4\n",
    "temp['Lymphocytes'] = 1\n",
    "temp['Monocytes'] = 1\n",
    "temp['Eosinophils'] = 5\n",
    "temp['Basophils'] = 6\n",
    "temp['CRP'] = 1\n",
    "temp['AST'] = 5\n",
    "temp['ALT'] = 1\n",
    "temp['ALP'] = 11\n",
    "temp['GGT'] = 1\n",
    "temp['LDH'] = 10\n"
   ]
  },
  {
   "cell_type": "code",
   "execution_count": 81,
   "id": "ac4194c3",
   "metadata": {},
   "outputs": [
    {
     "name": "stdout",
     "output_type": "stream",
     "text": [
      "   AGE  ALP  ALT  AST  Basophils  CRP  Eosinophils  GENDER  GGT  LDH  \\\n",
      "x    2   11    1    5          6    1            5       1    1   10   \n",
      "\n",
      "   Lymphocytes  Monocytes  Neutrophils  Platelets  WBC  \n",
      "x            1          1            4          4    3  \n"
     ]
    }
   ],
   "source": [
    "td = pd.DataFrame({'x':temp}).transpose()\n",
    "print(td)"
   ]
  },
  {
   "cell_type": "code",
   "execution_count": 82,
   "id": "2a0f7df0",
   "metadata": {},
   "outputs": [
    {
     "data": {
      "text/plain": [
       "0"
      ]
     },
     "execution_count": 82,
     "metadata": {},
     "output_type": "execute_result"
    }
   ],
   "source": [
    "rf_model.predict(td)[0]"
   ]
  },
  {
   "cell_type": "code",
   "execution_count": null,
   "id": "b383901a",
   "metadata": {},
   "outputs": [],
   "source": []
  }
 ],
 "metadata": {
  "kernelspec": {
   "display_name": "Python 3 (ipykernel)",
   "language": "python",
   "name": "python3"
  },
  "language_info": {
   "codemirror_mode": {
    "name": "ipython",
    "version": 3
   },
   "file_extension": ".py",
   "mimetype": "text/x-python",
   "name": "python",
   "nbconvert_exporter": "python",
   "pygments_lexer": "ipython3",
   "version": "3.9.7"
  }
 },
 "nbformat": 4,
 "nbformat_minor": 5
}
